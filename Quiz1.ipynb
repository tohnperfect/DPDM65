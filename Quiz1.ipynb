{
  "nbformat": 4,
  "nbformat_minor": 0,
  "metadata": {
    "colab": {
      "name": "Quiz1.ipynb",
      "provenance": [],
      "authorship_tag": "ABX9TyN9rEn/FWB/l4nDz+orAR1R",
      "include_colab_link": true
    },
    "kernelspec": {
      "name": "python3",
      "display_name": "Python 3"
    },
    "language_info": {
      "name": "python"
    }
  },
  "cells": [
    {
      "cell_type": "markdown",
      "metadata": {
        "id": "view-in-github",
        "colab_type": "text"
      },
      "source": [
        "<a href=\"https://colab.research.google.com/github/tohnperfect/DPDM65/blob/main/Quiz1.ipynb\" target=\"_parent\"><img src=\"https://colab.research.google.com/assets/colab-badge.svg\" alt=\"Open In Colab\"/></a>"
      ]
    },
    {
      "cell_type": "markdown",
      "source": [
        "# Quiz1\n",
        "เขียน function แสดงความต่างของเวลาโดย input อยู่ในรูปแบบ 'XX:YY:ZZ - AA:BB:CC'\n",
        "\n",
        "และวนลูปแสดงผลของ input ต่อไปนี้\n",
        "\n",
        "* '09:11:50 - 12:30:15'\n",
        "* '13:41:07 - 20:00:18'\n",
        "* '00:00:00 - 23:59:59'\n",
        "* '18:04:11 - 00:00:00'\n",
        "* '21:30:00 - 03:05:15'\n",
        "\n",
        "ตัวอย่าง \n",
        "input ```'00:00:00-01:00:00'``` \n",
        "\n",
        "output ```ช่วงระยะเวลาระหว่าง 00:00:00 ถึง 01:00:00 มีเวลาทั้งหมด 3,600 วินาที```"
      ],
      "metadata": {
        "id": "AyuFpHU_VgDa"
      }
    },
    {
      "cell_type": "code",
      "execution_count": 1,
      "metadata": {
        "id": "KEI3c836Vd-b"
      },
      "outputs": [],
      "source": [
        "time = '09:11:50 - 12:30:15'"
      ]
    },
    {
      "cell_type": "code",
      "source": [
        "time.split(' - ')"
      ],
      "metadata": {
        "colab": {
          "base_uri": "https://localhost:8080/"
        },
        "id": "qwTaxrKxqpx1",
        "outputId": "5c403d01-2f8e-4860-a100-0a1f4057aa79"
      },
      "execution_count": 2,
      "outputs": [
        {
          "output_type": "execute_result",
          "data": {
            "text/plain": [
              "['09:11:50', '12:30:15']"
            ]
          },
          "metadata": {},
          "execution_count": 2
        }
      ]
    },
    {
      "cell_type": "code",
      "source": [
        "time.split()"
      ],
      "metadata": {
        "colab": {
          "base_uri": "https://localhost:8080/"
        },
        "id": "29yfS8k7q0pt",
        "outputId": "0a772124-aa00-401b-8796-e5a89a3225e1"
      },
      "execution_count": 3,
      "outputs": [
        {
          "output_type": "execute_result",
          "data": {
            "text/plain": [
              "['09:11:50', '-', '12:30:15']"
            ]
          },
          "metadata": {},
          "execution_count": 3
        }
      ]
    },
    {
      "cell_type": "code",
      "source": [
        "T = time.split(' - ')\n",
        "Tstart = T[0]\n",
        "Tend = T[-1]\n",
        "\n",
        "SplitS = Tstart.split(':')\n",
        "Sstart = 3600*int(SplitS[0]) + 60*int(SplitS[1]) + int(SplitS[2])\n",
        "\n",
        "SplitE = Tend.split(':')\n",
        "Send = 3600*int(SplitE[0]) + 60*int(SplitE[1]) + int(SplitE[2])\n",
        "\n",
        "if Send < Sstart:\n",
        "    print(f'ช่วงระยะเวลาระหว่าง {Tstart} ถึง {Tend} มีเวลาทั้งหมด {(Send*24*3600)-Sstart} วินาที')\n",
        "else:\n",
        "    print(f'ช่วงระยะเวลาระหว่าง {Tstart} ถึง {Tend} มีเวลาทั้งหมด {Send-Sstart} วินาที')\n"
      ],
      "metadata": {
        "colab": {
          "base_uri": "https://localhost:8080/"
        },
        "id": "NZCz5-U8q_1g",
        "outputId": "0175b35b-e007-4ad5-ac58-7acedc822a47"
      },
      "execution_count": 4,
      "outputs": [
        {
          "output_type": "stream",
          "name": "stdout",
          "text": [
            "ช่วงระยะเวลาระหว่าง 09:11:50 ถึง 12:30:15 มีเวลาทั้งหมด 11905 วินาที\n"
          ]
        }
      ]
    },
    {
      "cell_type": "code",
      "source": [
        "time = '18:04:11 - 00:00:00'\n",
        "\n",
        "T = time.split(' - ')\n",
        "Tstart = T[0]\n",
        "Tend = T[-1]\n",
        "\n",
        "SplitS = Tstart.split(':')\n",
        "Sstart = 3600*int(SplitS[0]) + 60*int(SplitS[1]) + int(SplitS[2])\n",
        "\n",
        "SplitE = Tend.split(':')\n",
        "Send = 3600*int(SplitE[0]) + 60*int(SplitE[1]) + int(SplitE[2])\n",
        "\n",
        "if Send < Sstart:\n",
        "    print(f'ช่วงระยะเวลาระหว่าง {Tstart} ถึง {Tend} มีเวลาทั้งหมด {(Send+(24*3600))-Sstart:,} วินาที')\n",
        "else:\n",
        "    print(f'ช่วงระยะเวลาระหว่าง {Tstart} ถึง {Tend} มีเวลาทั้งหมด {Send-Sstart:,} วินาที')"
      ],
      "metadata": {
        "colab": {
          "base_uri": "https://localhost:8080/"
        },
        "id": "Hgl5lrQBufyZ",
        "outputId": "5dbb0f79-002e-4ecd-9f40-f93e832fb3aa"
      },
      "execution_count": 9,
      "outputs": [
        {
          "output_type": "stream",
          "name": "stdout",
          "text": [
            "ช่วงระยะเวลาระหว่าง 18:04:11 ถึง 00:00:00 มีเวลาทั้งหมด 21,349 วินาที\n"
          ]
        }
      ]
    },
    {
      "cell_type": "code",
      "source": [
        "def cal_time(time):\n",
        "    T = time.split(' - ')\n",
        "    Tstart = T[0]\n",
        "    Tend = T[-1]\n",
        "\n",
        "    SplitS = Tstart.split(':')\n",
        "    Sstart = 3600*int(SplitS[0]) + 60*int(SplitS[1]) + int(SplitS[2])\n",
        "\n",
        "    SplitE = Tend.split(':')\n",
        "    Send = 3600*int(SplitE[0]) + 60*int(SplitE[1]) + int(SplitE[2])\n",
        "\n",
        "    if Send < Sstart:\n",
        "        return f'ช่วงระยะเวลาระหว่าง {Tstart} ถึง {Tend} มีเวลาทั้งหมด {(Send+(24*3600))-Sstart:,} วินาที'\n",
        "    else:\n",
        "        return f'ช่วงระยะเวลาระหว่าง {Tstart} ถึง {Tend} มีเวลาทั้งหมด {Send-Sstart:,} วินาที'"
      ],
      "metadata": {
        "id": "Gjb4wZfSutM3"
      },
      "execution_count": 10,
      "outputs": []
    },
    {
      "cell_type": "code",
      "source": [
        "cal_time('18:04:11 - 00:00:00')"
      ],
      "metadata": {
        "colab": {
          "base_uri": "https://localhost:8080/",
          "height": 57
        },
        "id": "0sj4ESQxwKaA",
        "outputId": "afd88605-9637-44b2-95b5-cce61a02e71a"
      },
      "execution_count": 11,
      "outputs": [
        {
          "output_type": "execute_result",
          "data": {
            "text/plain": [
              "'ช่วงระยะเวลาระหว่าง 18:04:11 ถึง 00:00:00 มีเวลาทั้งหมด 21,349 วินาที'"
            ],
            "application/vnd.google.colaboratory.intrinsic+json": {
              "type": "string"
            }
          },
          "metadata": {},
          "execution_count": 11
        }
      ]
    },
    {
      "cell_type": "code",
      "source": [
        "def cal_time2(Tstart,Tend):\n",
        "\n",
        "    SplitS = Tstart.split(':')\n",
        "    Sstart = 3600*int(SplitS[0]) + 60*int(SplitS[1]) + int(SplitS[2])\n",
        "\n",
        "    SplitE = Tend.split(':')\n",
        "    Send = 3600*int(SplitE[0]) + 60*int(SplitE[1]) + int(SplitE[2])\n",
        "\n",
        "    if Send < Sstart:\n",
        "        return f'ช่วงระยะเวลาระหว่าง {Tstart} ถึง {Tend} มีเวลาทั้งหมด {(Send+(24*3600))-Sstart:,} วินาที'\n",
        "    else:\n",
        "        return f'ช่วงระยะเวลาระหว่าง {Tstart} ถึง {Tend} มีเวลาทั้งหมด {Send-Sstart:,} วินาที'"
      ],
      "metadata": {
        "id": "7vBv-CUJwPgx"
      },
      "execution_count": 12,
      "outputs": []
    },
    {
      "cell_type": "code",
      "source": [
        "cal_time2('18:04:11','00:00:00')"
      ],
      "metadata": {
        "colab": {
          "base_uri": "https://localhost:8080/",
          "height": 57
        },
        "id": "dXK8funh6hpH",
        "outputId": "de39346d-a5f9-4446-ee05-7d97efc3e0d1"
      },
      "execution_count": 14,
      "outputs": [
        {
          "output_type": "execute_result",
          "data": {
            "text/plain": [
              "'ช่วงระยะเวลาระหว่าง 18:04:11 ถึง 00:00:00 มีเวลาทั้งหมด 21,349 วินาที'"
            ],
            "application/vnd.google.colaboratory.intrinsic+json": {
              "type": "string"
            }
          },
          "metadata": {},
          "execution_count": 14
        }
      ]
    },
    {
      "cell_type": "code",
      "source": [
        "cal_time2(Tend='00:00:00',Tstart='18:04:11')"
      ],
      "metadata": {
        "colab": {
          "base_uri": "https://localhost:8080/",
          "height": 57
        },
        "id": "qVVeM0FX6lxQ",
        "outputId": "54177468-7a9f-4388-dffc-b831d141d443"
      },
      "execution_count": 15,
      "outputs": [
        {
          "output_type": "execute_result",
          "data": {
            "text/plain": [
              "'ช่วงระยะเวลาระหว่าง 18:04:11 ถึง 00:00:00 มีเวลาทั้งหมด 21,349 วินาที'"
            ],
            "application/vnd.google.colaboratory.intrinsic+json": {
              "type": "string"
            }
          },
          "metadata": {},
          "execution_count": 15
        }
      ]
    },
    {
      "cell_type": "code",
      "source": [
        ""
      ],
      "metadata": {
        "id": "HsqKhagH6xwV"
      },
      "execution_count": null,
      "outputs": []
    }
  ]
}